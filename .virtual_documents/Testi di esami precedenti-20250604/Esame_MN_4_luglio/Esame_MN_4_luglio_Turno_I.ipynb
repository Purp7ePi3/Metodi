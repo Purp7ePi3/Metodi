





from scipy.io import loadmat
import numpy as np
import matplotlib.pyplot as plt

dati = loadmat('testI')
A = dati["A"].astype(float)
b = dati["b"].astype(float).flatten()

def check(A):
    is_sym = np.allclose(A, A.T)
    is_pos = is_sym and np.all(np.linalg.eigvals(A) > 0)
    return is_sym, is_pos

print(check(A))


def jacobi(A, b, x0, tol=1e-10, max_it=2000):
    d = np.diag(A)  
    n = A.shape[0]
    invM = np.diag(1/d)
    L = np.tril(A, -1)       
    U = np.triu(A, 1)      
    N = L + U
    T = -invM @ N
    autovalori = np.linalg.eigvals(T)
    raggio = max(abs(autovalori))
    print("Raggio spettrale jacobi:", raggio)
    
    er_vet = []
    for i in range(max_it):
        x = invM @ (b - N @ x0)
        error = np.linalg.norm(x - x0) / np.linalg.norm(x)
        er_vet.append(error)
        
        if error < tol:
            return x, i+1, er_vet
        x0 = x.copy()
    
    return x, max_it, er_vet


def gauss_seidel(A, b, x0, tol=1e-10, max_it=2000):
    n = A.shape[0]
    D = np.diag(np.diag(A))
    E = np.tril(A, -1)
    F = np.triu(A, 1)

    M = D + E
    N = -F

    T = np.linalg.inv(M) @ N
    autovalori=np.linalg.eigvals(T)
    raggiospettrale = np.max(np.abs(autovalori))
    print("raggio spettrale Gauss-Seidel ",raggiospettrale)
    er_vet = []
    
    for i in range(max_it):
        temp = b - F @ x0
        x = np.linalg.solve(M, temp)
        error = np.linalg.norm(x - x0) / np.linalg.norm(x)
        er_vet.append(error)
        if error < tol:
            return x, i+1, er_vet
        x0 = x.copy()

    return x, max_it, er_vet


n = A.shape[0]
x0_curr = np.zeros(n)
sol, iterazioni, errori = jacobi(A, b, x0_curr)
sol1, iterazioni1, errori1 = gauss_seidel(A, b, x0_curr)

plt.figure(figsize=(12,6))
plt.semilogy(errori, label='Jacobi', markersize=3)
plt.semilogy(errori1, label='Gauss-Seidel', markersize=3)
plt.xlabel('Iterazioni')
plt.ylabel('Errore relativo')
plt.title('Confronto convergenza: Jacobi vs Gauss-Seidel')
plt.legend()
plt.grid(True)
plt.show()





import numpy as np
from scipy.linalg import lu, solve_triangular

# Matrice
A = np.array([[3.0, 2.0, 1.0, -1.0],
              [4.0, 6.0, 3.0, 2.0], 
              [2.0, 1.0, 4.0, 3.0],
              [1.0, 4.0, 2.0, 7.0]])

P, L, U = lu(A)

det_lu = np.linalg.det(P) * np.prod(np.diag(U))
det_numpy = np.linalg.det(A)
print(f"det(A) LU: {det_lu}")
print(f"det(A) numpy: {det_numpy}")
print(f"Differenza: {abs(det_lu - det_numpy)}")
print() 
n = A.shape[0]
A_inv = np.zeros((n, n))
for i in range(n):
    ei = np.zeros(n); ei[i] = 1
    y = solve_triangular(L, P @ ei, lower=True)
    A_inv[:, i] = solve_triangular(U, y, lower=False)
A_inv_numpy = np.linalg.inv(A)

print(f"Differenza inverse: {np.max(np.abs(A_inv - A_inv_numpy))}")
print("Inversa via LU:")
print(A_inv)





import numpy as np
import matplotlib.pyplot as plt

# SISTEMA NON LINEARE
def f(x):
    return np.array([x[0]*x[1] + x[0] - 1, x[0]**2 + x[1]**2 - 9])

def jacobian(x):
    return np.array([[x[1] + 1, x[0]], [2*x[0], 2*x[1]]])

# 1. NEWTON-RAPHSON
def newton_raphson(x0, tol=1e-10, max_it=50):
    x = x0.copy()
    errors = []
    for i in range(max_it):
        fx = f(x)
        if np.linalg.norm(fx) < tol:
            break
        J = jacobian(x)
        delta = np.linalg.solve(J, -fx)
        x_new = x + delta
        if np.linalg.norm(x_new) > 0:
            error = np.linalg.norm(x_new - x) / np.linalg.norm(x_new)
            errors.append(error)
        x = x_new
    return x, i+1, errors

# 2. METODO DELLE CORDE
def chord_method(x0, tol=1e-10, max_it=50):
    x = x0.copy()
    J0 = jacobian(x0)  # Jacobiano fisso
    errors = []
    for i in range(max_it):
        fx = f(x)
        if np.linalg.norm(fx) < tol:
            break
        delta = np.linalg.solve(J0, -fx)
        x_new = x + delta
        if np.linalg.norm(x_new) > 0:
            error = np.linalg.norm(x_new - x) / np.linalg.norm(x_new)
            errors.append(error)
        x = x_new
    return x, i+1, errors

# 3. METODO DI SHAMANSKII
def shamanskii(x0, m=2, tol=1e-10, max_it=50):
    x = x0.copy()
    errors = []
    for i in range(max_it):
        fx = f(x)
        if np.linalg.norm(fx) < tol:
            break
        
        # Calcola Jacobiano ogni m iterazioni
        if i % m == 0:
            J = jacobian(x)
        
        delta = np.linalg.solve(J, -fx)
        x_new = x + delta
        if np.linalg.norm(x_new) > 0:
            error = np.linalg.norm(x_new - x) / np.linalg.norm(x_new)
            errors.append(error)
        x = x_new
    return x, i+1, errors

# VISUALIZZAZIONE GRAFICA PER TROVARE X0
x = np.linspace(-4, 4, 400)
y = np.linspace(-4, 4, 400)
X, Y = np.meshgrid(x, y)

# Curve di livello z=0
Z1 = X*Y + X - 1  # f1(x,y) = 0
Z2 = X**2 + Y**2 - 9  # f2(x,y) = 0

plt.figure(figsize=(10, 5))

plt.subplot(1, 2, 1)
c1 = plt.contour(X, Y, Z1, levels=[0], colors='red')
c2 = plt.contour(X, Y, Z2, levels=[0], colors='blue')
plt.plot([], [], label='f1=0')
plt.plot([], [], label='f2=0')
plt.grid(True)
plt.axis('equal')
plt.title('Curve di livello')
plt.legend()

# PUNTO INIZIALE (scelto graficamente)
x0 = np.array([1.0, 2.8])
plt.plot(x0[0], x0[1], label='x0')

# RISOLUZIONE CON I TRE METODI
sol_nr, it_nr, err_nr = newton_raphson(x0)
sol_chord, it_chord, err_chord = chord_method(x0)
sol_sham, it_sham, err_sham = shamanskii(x0)

print("RISULTATI:")
print(f"Newton-Raphson: {sol_nr}, iterazioni: {it_nr}")
print(f"Corde: {sol_chord}, iterazioni: {it_chord}")
print(f"Shamanskii: {sol_sham}, iterazioni: {it_sham}")

# CONFRONTO ERRORI
plt.subplot(1, 2, 2)
plt.semilogy(err_nr, label='Newton-Raphson')
plt.semilogy(err_chord, label='Corde')
plt.semilogy(err_sham, label='Shamanskii')
plt.xlabel('Iterazioni')
plt.ylabel('Errore relativo')
plt.title('Confronto convergenza')
plt.legend()
plt.grid(True)
plt.tight_layout()
plt.show()

# VERIFICA SOLUZIONI
print("\nVERIFICA:")
print(f"f(sol_NR) = {f(sol_nr)}")
print(f"f(sol_chord) = {f(sol_chord)}")
print(f"f(sol_sham) = {f(sol_sham)}")


































