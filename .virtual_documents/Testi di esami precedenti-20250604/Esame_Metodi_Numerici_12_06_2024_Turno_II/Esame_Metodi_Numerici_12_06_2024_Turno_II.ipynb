


from scipy.io import loadmat
import numpy as np
import matplotlib.pyplot as plt

# Load data
dati = loadmat('testII')
A = dati['A'].astype('float')
A1 = dati['A1'].astype('float')
b = dati['b'].astype('float')
b1 = dati['b1'].astype('float')

# Conjugate Gradient
def cg(A, b, x0, tol=1e-6, max_it=2000):
    x = x0.flatten()
    b = b.flatten()
    r = A @ x - b
    p = -r
    nb = np.linalg.norm(b)
    err = [np.linalg.norm(r) / nb]
    
    for it in range(max_it):
        if err[-1] < tol:
            break
        Ap = A @ p
        alpha = -(r @ p) / (p @ Ap)
        x += alpha * p
        r_old = r.copy()
        r += alpha * Ap
        beta = (r @ r) / (r_old @ r_old)
        p = -r + beta * p
        err.append(np.linalg.norm(r) / nb)
    
    return x.reshape(-1,1), err, it+1

# Steepest Descent
def sd(A, b, x0, tol=1e-6, max_it=2000):
    x = x0.flatten()
    b = b.flatten()
    r = A @ x - b
    nb = np.linalg.norm(b)
    err = [np.linalg.norm(r) / nb]
    
    for it in range(max_it):
        if err[-1] < tol:
            break
        p = -r
        Ap = A @ p
        alpha = -(r @ p) / (p @ Ap)
        x += alpha * p
        r += alpha * Ap
        err.append(np.linalg.norm(r) / nb)
    
    return x.reshape(-1,1), err, it+1

# Check matrix properties
def check(A):
    sym = np.allclose(A, A.T)
    pos = sym and np.all(np.linalg.eigvals(A) > 0)
    return sym, pos

# Solve both systems
for A_curr, b_curr, name in [(A, b, "A"), (A1, b1, "A1")]:
    sym, pos = check(A_curr)
    print(f"Matrix {name}: symmetric={sym}, positive={pos}")
    
    if sym and pos:
        x0 = np.zeros((A_curr.shape[0], 1))
        sol_cg, err_cg, it_cg = cg(A_curr, b_curr, x0)
        sol_sd, err_sd, it_sd = sd(A_curr, b_curr, x0)
        
        print(f"CG: {it_cg} iterations")
        print(f"SD: {it_sd} iterations")
        print(f"Speedup: {it_sd/it_cg:.1f}x")
        
        # Plot
        plt.figure(figsize=(10,6))
        plt.semilogy(err_cg, 'b-', label='CG')
        plt.semilogy(err_sd, 'r-', label='SD')
        plt.xlabel('Iterations')
        plt.ylabel('Error')
        plt.legend()
        plt.grid()
        plt.title(f'Matrix {name}')
        plt.show()





import numpy as np 
import matplotlib.pyplot as plt

def f(x):
    return 2*x**4 - 3.5*x**3 + 0.75*x**2 + x - 0.25

def fd(x):
    return 8*x**3 - 10.5*x**2 + 1.5*x + 1

# Plot
x = np.linspace(-1,2,1000)
y = f(x)
plt.figure(figsize=(12,6))
plt.plot(x,y)
plt.axhline(y = 0 , color="red")
plt.grid()
plt.xlim(-1, 2)
plt.show()

# CORREZIONE 1: Zeri corretti
zeri = [-0.5, 0.25, 1]  # 0.25, NON -0.25!

def newton(f, fd, x0, tol=1e-10, max_it=100):
    errors = []
    x = x0
    
    for i in range(max_it):
        fx = f(x)
        fdx = fd(x)
        if abs(fdx) < 1e-15:
            return None, i , []
        
        x_new = x - fx / fdx
        errors.append(abs(x_new - x))  # SEMPRE calcola errore
        
        if abs(f(x_new)) < tol:
            return x_new, i+1, errors
        
        x = x_new
    return x, max_it, errors
    
def bisezione(f, a, b, tol=1e-10, max_it=200):
    if f(a) * f(b) > 0:
        return None, -1, []
    errors = []
    x_old = a
    
    for i in range(max_it):
        c = ( a + b ) / 2
        fc = f(c)
        
        if i > 0:
            errors.append(abs(c - x_old))
            
        if abs(fc) < tol or (b-a)/2 < tol:
            return c, i+1, errors
        
        if f(a) * fc < 0:
            b = c
        else:
            a = c
            
        x_old = c
    return c, i, errors

# CORREZIONE 2: Intervalli corretti    
intervalli = [(-0.6, -0.4), (0.2, 0.3), (0.9, 1.1)]

print("=== BISEZIONE ===")
for i, (a, b) in enumerate(intervalli):
    print(f"\nIntervallo [{a}, {b}] per zero {zeri[i]}:")
    print(f"f({a}) = {f(a):.3f}, f({b}) = {f(b):.3f}")
    
    if f(a) * f(b) < 0:
        zero, it, err = bisezione(f, a, b)
        print(f"✅ Zero: {zero:.10f} in {it} iterazioni")
    else:
        print("❌ ERRORE: f(a)*f(b) > 0 - nessun cambio di segno")

def stima_ordine(error):
    if len(error) < 3:
        return None
    p_values = []
    for i in range(2, len(error)):
        if error[i-1] > 1e-15 and error[i-2] > 1e-15:  # Evita divisione per 0
            p = np.log(error[i] / error[i-1]) / np.log(error[i-1]/error[i-2])
            p_values.append(p)
    return np.mean(p_values) if p_values else None

# CORREZIONE 3: Newton modificato corretto
def newton_mod(f, fd, x0, m=2, tol=1e-10, max_it=100):
    errors = []
    x = x0
    
    for i in range(max_it):
        fx = f(x)
        fdx = fd(x)
        if abs(fdx) < 1e-15:
            return None, i, []
            
        x_new = x - m * fx / fdx
        errors.append(abs(x_new - x))  # SEMPRE calcola errore
        
        if abs(f(x_new)) < tol:
            return x_new, i+1, errors
        
        x = x_new
    return x, max_it, errors

print("\n=== NEWTON ===")
x0_values = [-0.4, 0.3, 0.9]
for i, x0 in enumerate(x0_values):
    print(f"\nPunto iniziale x0 = {x0} per zero {zeri[i]}:")
    zero, it, error = newton(f, fd, x0)
    
    if zero is not None:
        print(f"✅ Zero: {zero:.10f} in {it} iterazioni")
        
        if len(error) >= 3:
            order = stima_ordine(error)
            if order is not None:
                print(f"📊 Ordine stimato: {order:.2f}")
                
                if order < 1.5:
                    print("⚠️  ORDINE ≈ 1: Radice multipla!")
                    print("🔧 Provo Newton modificato (m=2)...")
                    
                    zero_mod, it_mod, err_mod = newton_mod(f, fd, x0, m=2)
                    if zero_mod is not None and len(err_mod) >= 3:
                        order_mod = stima_ordine(err_mod)
                        print(f"✅ Newton mod: {zero_mod:.10f}")
                        print(f"📊 Ordine mod: {order_mod:.2f}")
                else:
                    print("✅ ORDINE ≈ 2: Radice semplice")
        else:
            print("❌ Troppo poche iterazioni per stimare ordine")
    else:
        print("❌ Newton non converge")

print("\n📖 TEORIA:")
print("- Bisezione: ordine 1, serve f(a)*f(b) < 0")
print("- Newton: ordine 2 (radici semplici), ordine 1 (radici multiple)")
print("- Newton modificato: ripristina ordine 2 per radici multiple")


























**
